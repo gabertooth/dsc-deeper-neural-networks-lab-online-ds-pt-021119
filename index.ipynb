{
 "cells": [
  {
   "cell_type": "markdown",
   "metadata": {},
   "source": [
    "# Deeper Neural Networks - Lab\n",
    "\n",
    "## Introduction\n",
    "\n",
    "In this lesson, we'll dig deeper into the work horse of deep learning, **_Multi-Layer Perceptrons_**! We'll build and train a couple different MLPs with Keras and explore the tradeoffs that come with adding extra hidden layers. We'll also try switching out some of the activation functions we learned about in the previous lesson to see how they affect training and performance. \n",
    "\n",
    "## Getting Started\n",
    "\n",
    "We'll begin by importing everything we need for this lab. Run the cell below \n",
    "to import everything we'll need for this lab. "
   ]
  },
  {
   "cell_type": "code",
   "execution_count": 1,
   "metadata": {},
   "outputs": [
    {
     "name": "stderr",
     "output_type": "stream",
     "text": [
      "Using TensorFlow backend.\n"
     ]
    }
   ],
   "source": [
    "import pandas as pd\n",
    "import numpy as np\n",
    "import matplotlib.pyplot as plt\n",
    "%matplotlib inline\n",
    "import keras\n",
    "from keras.models import Sequential\n",
    "from keras.layers import Dense\n",
    "# from keras.datasets import boston_housing, mnist\n",
    "from sklearn.datasets import load_breast_cancer\n",
    "from sklearn.preprocessing import StandardScaler, LabelBinarizer"
   ]
  },
  {
   "cell_type": "markdown",
   "metadata": {},
   "source": [
    "For this lab, we'll be working with the [Boston Breast Cancer Dataset](https://www.kaggle.com/uciml/breast-cancer-wisconsin-data). Although we're importing this dataset directly from sklearn, the kaggle link above contains a detailed explanation of the dataset, in case you're interested. We recommend taking a minute to familiarize yourself with the dataset before digging in. \n",
    "\n",
    "In the cell below:\n",
    "\n",
    "* Call `load_breast_cancer()` to store the dataset object. \n",
    "* Get the `.data`, `.target`, and `.feature_names` and store them in the appropriate variables below."
   ]
  },
  {
   "cell_type": "code",
   "execution_count": 2,
   "metadata": {},
   "outputs": [],
   "source": [
    "bc_dataset = load_breast_cancer()\n",
    "data = bc_dataset.data\n",
    "target = bc_dataset.target\n",
    "col_names = bc_dataset.feature_names"
   ]
  },
  {
   "cell_type": "markdown",
   "metadata": {},
   "source": [
    "Now, let's create a dataframe so that we can see the data and explore it a bit more easily with the column names attached. \n",
    "\n",
    "In the cell below, create a pandas dataframe and pass in the `data`. Also pass in the `col_names` to the `columns` parameter when creating the dataframe. Then, print the head of the dataframe. "
   ]
  },
  {
   "cell_type": "code",
   "execution_count": 3,
   "metadata": {},
   "outputs": [
    {
     "data": {
      "text/html": [
       "<div>\n",
       "<style scoped>\n",
       "    .dataframe tbody tr th:only-of-type {\n",
       "        vertical-align: middle;\n",
       "    }\n",
       "\n",
       "    .dataframe tbody tr th {\n",
       "        vertical-align: top;\n",
       "    }\n",
       "\n",
       "    .dataframe thead th {\n",
       "        text-align: right;\n",
       "    }\n",
       "</style>\n",
       "<table border=\"1\" class=\"dataframe\">\n",
       "  <thead>\n",
       "    <tr style=\"text-align: right;\">\n",
       "      <th></th>\n",
       "      <th>mean radius</th>\n",
       "      <th>mean texture</th>\n",
       "      <th>mean perimeter</th>\n",
       "      <th>mean area</th>\n",
       "      <th>mean smoothness</th>\n",
       "      <th>mean compactness</th>\n",
       "      <th>mean concavity</th>\n",
       "      <th>mean concave points</th>\n",
       "      <th>mean symmetry</th>\n",
       "      <th>mean fractal dimension</th>\n",
       "      <th>...</th>\n",
       "      <th>worst radius</th>\n",
       "      <th>worst texture</th>\n",
       "      <th>worst perimeter</th>\n",
       "      <th>worst area</th>\n",
       "      <th>worst smoothness</th>\n",
       "      <th>worst compactness</th>\n",
       "      <th>worst concavity</th>\n",
       "      <th>worst concave points</th>\n",
       "      <th>worst symmetry</th>\n",
       "      <th>worst fractal dimension</th>\n",
       "    </tr>\n",
       "  </thead>\n",
       "  <tbody>\n",
       "    <tr>\n",
       "      <th>0</th>\n",
       "      <td>17.99</td>\n",
       "      <td>10.38</td>\n",
       "      <td>122.80</td>\n",
       "      <td>1001.0</td>\n",
       "      <td>0.11840</td>\n",
       "      <td>0.27760</td>\n",
       "      <td>0.3001</td>\n",
       "      <td>0.14710</td>\n",
       "      <td>0.2419</td>\n",
       "      <td>0.07871</td>\n",
       "      <td>...</td>\n",
       "      <td>25.38</td>\n",
       "      <td>17.33</td>\n",
       "      <td>184.60</td>\n",
       "      <td>2019.0</td>\n",
       "      <td>0.1622</td>\n",
       "      <td>0.6656</td>\n",
       "      <td>0.7119</td>\n",
       "      <td>0.2654</td>\n",
       "      <td>0.4601</td>\n",
       "      <td>0.11890</td>\n",
       "    </tr>\n",
       "    <tr>\n",
       "      <th>1</th>\n",
       "      <td>20.57</td>\n",
       "      <td>17.77</td>\n",
       "      <td>132.90</td>\n",
       "      <td>1326.0</td>\n",
       "      <td>0.08474</td>\n",
       "      <td>0.07864</td>\n",
       "      <td>0.0869</td>\n",
       "      <td>0.07017</td>\n",
       "      <td>0.1812</td>\n",
       "      <td>0.05667</td>\n",
       "      <td>...</td>\n",
       "      <td>24.99</td>\n",
       "      <td>23.41</td>\n",
       "      <td>158.80</td>\n",
       "      <td>1956.0</td>\n",
       "      <td>0.1238</td>\n",
       "      <td>0.1866</td>\n",
       "      <td>0.2416</td>\n",
       "      <td>0.1860</td>\n",
       "      <td>0.2750</td>\n",
       "      <td>0.08902</td>\n",
       "    </tr>\n",
       "    <tr>\n",
       "      <th>2</th>\n",
       "      <td>19.69</td>\n",
       "      <td>21.25</td>\n",
       "      <td>130.00</td>\n",
       "      <td>1203.0</td>\n",
       "      <td>0.10960</td>\n",
       "      <td>0.15990</td>\n",
       "      <td>0.1974</td>\n",
       "      <td>0.12790</td>\n",
       "      <td>0.2069</td>\n",
       "      <td>0.05999</td>\n",
       "      <td>...</td>\n",
       "      <td>23.57</td>\n",
       "      <td>25.53</td>\n",
       "      <td>152.50</td>\n",
       "      <td>1709.0</td>\n",
       "      <td>0.1444</td>\n",
       "      <td>0.4245</td>\n",
       "      <td>0.4504</td>\n",
       "      <td>0.2430</td>\n",
       "      <td>0.3613</td>\n",
       "      <td>0.08758</td>\n",
       "    </tr>\n",
       "    <tr>\n",
       "      <th>3</th>\n",
       "      <td>11.42</td>\n",
       "      <td>20.38</td>\n",
       "      <td>77.58</td>\n",
       "      <td>386.1</td>\n",
       "      <td>0.14250</td>\n",
       "      <td>0.28390</td>\n",
       "      <td>0.2414</td>\n",
       "      <td>0.10520</td>\n",
       "      <td>0.2597</td>\n",
       "      <td>0.09744</td>\n",
       "      <td>...</td>\n",
       "      <td>14.91</td>\n",
       "      <td>26.50</td>\n",
       "      <td>98.87</td>\n",
       "      <td>567.7</td>\n",
       "      <td>0.2098</td>\n",
       "      <td>0.8663</td>\n",
       "      <td>0.6869</td>\n",
       "      <td>0.2575</td>\n",
       "      <td>0.6638</td>\n",
       "      <td>0.17300</td>\n",
       "    </tr>\n",
       "    <tr>\n",
       "      <th>4</th>\n",
       "      <td>20.29</td>\n",
       "      <td>14.34</td>\n",
       "      <td>135.10</td>\n",
       "      <td>1297.0</td>\n",
       "      <td>0.10030</td>\n",
       "      <td>0.13280</td>\n",
       "      <td>0.1980</td>\n",
       "      <td>0.10430</td>\n",
       "      <td>0.1809</td>\n",
       "      <td>0.05883</td>\n",
       "      <td>...</td>\n",
       "      <td>22.54</td>\n",
       "      <td>16.67</td>\n",
       "      <td>152.20</td>\n",
       "      <td>1575.0</td>\n",
       "      <td>0.1374</td>\n",
       "      <td>0.2050</td>\n",
       "      <td>0.4000</td>\n",
       "      <td>0.1625</td>\n",
       "      <td>0.2364</td>\n",
       "      <td>0.07678</td>\n",
       "    </tr>\n",
       "  </tbody>\n",
       "</table>\n",
       "<p>5 rows × 30 columns</p>\n",
       "</div>"
      ],
      "text/plain": [
       "   mean radius  mean texture  mean perimeter  mean area  mean smoothness  \\\n",
       "0        17.99         10.38          122.80     1001.0          0.11840   \n",
       "1        20.57         17.77          132.90     1326.0          0.08474   \n",
       "2        19.69         21.25          130.00     1203.0          0.10960   \n",
       "3        11.42         20.38           77.58      386.1          0.14250   \n",
       "4        20.29         14.34          135.10     1297.0          0.10030   \n",
       "\n",
       "   mean compactness  mean concavity  mean concave points  mean symmetry  \\\n",
       "0           0.27760          0.3001              0.14710         0.2419   \n",
       "1           0.07864          0.0869              0.07017         0.1812   \n",
       "2           0.15990          0.1974              0.12790         0.2069   \n",
       "3           0.28390          0.2414              0.10520         0.2597   \n",
       "4           0.13280          0.1980              0.10430         0.1809   \n",
       "\n",
       "   mean fractal dimension  ...  worst radius  worst texture  worst perimeter  \\\n",
       "0                 0.07871  ...         25.38          17.33           184.60   \n",
       "1                 0.05667  ...         24.99          23.41           158.80   \n",
       "2                 0.05999  ...         23.57          25.53           152.50   \n",
       "3                 0.09744  ...         14.91          26.50            98.87   \n",
       "4                 0.05883  ...         22.54          16.67           152.20   \n",
       "\n",
       "   worst area  worst smoothness  worst compactness  worst concavity  \\\n",
       "0      2019.0            0.1622             0.6656           0.7119   \n",
       "1      1956.0            0.1238             0.1866           0.2416   \n",
       "2      1709.0            0.1444             0.4245           0.4504   \n",
       "3       567.7            0.2098             0.8663           0.6869   \n",
       "4      1575.0            0.1374             0.2050           0.4000   \n",
       "\n",
       "   worst concave points  worst symmetry  worst fractal dimension  \n",
       "0                0.2654          0.4601                  0.11890  \n",
       "1                0.1860          0.2750                  0.08902  \n",
       "2                0.2430          0.3613                  0.08758  \n",
       "3                0.2575          0.6638                  0.17300  \n",
       "4                0.1625          0.2364                  0.07678  \n",
       "\n",
       "[5 rows x 30 columns]"
      ]
     },
     "execution_count": 3,
     "metadata": {},
     "output_type": "execute_result"
    }
   ],
   "source": [
    "df = pd.DataFrame(data=data,columns=col_names)\n",
    "df.head()"
   ]
  },
  {
   "cell_type": "markdown",
   "metadata": {},
   "source": [
    "## Getting the Data Ready for Deep Learning\n",
    "\n",
    "In order to pass this data into a neural network, we'll need to make sure that the data:\n",
    "\n",
    "* Is purely numerical\n",
    "* contains no null values\n",
    "* Is normalized \n",
    "\n",
    "Let's begin by calling the dataframe's `.info()` method to check the datatype of each feature. "
   ]
  },
  {
   "cell_type": "code",
   "execution_count": 4,
   "metadata": {},
   "outputs": [
    {
     "name": "stdout",
     "output_type": "stream",
     "text": [
      "<class 'pandas.core.frame.DataFrame'>\n",
      "RangeIndex: 569 entries, 0 to 568\n",
      "Data columns (total 30 columns):\n",
      "mean radius                569 non-null float64\n",
      "mean texture               569 non-null float64\n",
      "mean perimeter             569 non-null float64\n",
      "mean area                  569 non-null float64\n",
      "mean smoothness            569 non-null float64\n",
      "mean compactness           569 non-null float64\n",
      "mean concavity             569 non-null float64\n",
      "mean concave points        569 non-null float64\n",
      "mean symmetry              569 non-null float64\n",
      "mean fractal dimension     569 non-null float64\n",
      "radius error               569 non-null float64\n",
      "texture error              569 non-null float64\n",
      "perimeter error            569 non-null float64\n",
      "area error                 569 non-null float64\n",
      "smoothness error           569 non-null float64\n",
      "compactness error          569 non-null float64\n",
      "concavity error            569 non-null float64\n",
      "concave points error       569 non-null float64\n",
      "symmetry error             569 non-null float64\n",
      "fractal dimension error    569 non-null float64\n",
      "worst radius               569 non-null float64\n",
      "worst texture              569 non-null float64\n",
      "worst perimeter            569 non-null float64\n",
      "worst area                 569 non-null float64\n",
      "worst smoothness           569 non-null float64\n",
      "worst compactness          569 non-null float64\n",
      "worst concavity            569 non-null float64\n",
      "worst concave points       569 non-null float64\n",
      "worst symmetry             569 non-null float64\n",
      "worst fractal dimension    569 non-null float64\n",
      "dtypes: float64(30)\n",
      "memory usage: 133.4 KB\n"
     ]
    }
   ],
   "source": [
    "df.info()"
   ]
  },
  {
   "cell_type": "markdown",
   "metadata": {},
   "source": [
    "From the output above, we can see that the entire dataset is already in numerical format. We can also see from the counts that each feature has the same number of entries as the number of rows in the dataframe--that means that no feature contains any null values. Great!\n",
    "\n",
    "Now, let's check to see if our data needs to be normalized. Instead of doing statistical tests here, let's just take a quick look at the head of the dataframe again. Do this in the cell below. "
   ]
  },
  {
   "cell_type": "code",
   "execution_count": 5,
   "metadata": {},
   "outputs": [
    {
     "data": {
      "text/html": [
       "<div>\n",
       "<style scoped>\n",
       "    .dataframe tbody tr th:only-of-type {\n",
       "        vertical-align: middle;\n",
       "    }\n",
       "\n",
       "    .dataframe tbody tr th {\n",
       "        vertical-align: top;\n",
       "    }\n",
       "\n",
       "    .dataframe thead th {\n",
       "        text-align: right;\n",
       "    }\n",
       "</style>\n",
       "<table border=\"1\" class=\"dataframe\">\n",
       "  <thead>\n",
       "    <tr style=\"text-align: right;\">\n",
       "      <th></th>\n",
       "      <th>mean radius</th>\n",
       "      <th>mean texture</th>\n",
       "      <th>mean perimeter</th>\n",
       "      <th>mean area</th>\n",
       "      <th>mean smoothness</th>\n",
       "      <th>mean compactness</th>\n",
       "      <th>mean concavity</th>\n",
       "      <th>mean concave points</th>\n",
       "      <th>mean symmetry</th>\n",
       "      <th>mean fractal dimension</th>\n",
       "      <th>...</th>\n",
       "      <th>worst radius</th>\n",
       "      <th>worst texture</th>\n",
       "      <th>worst perimeter</th>\n",
       "      <th>worst area</th>\n",
       "      <th>worst smoothness</th>\n",
       "      <th>worst compactness</th>\n",
       "      <th>worst concavity</th>\n",
       "      <th>worst concave points</th>\n",
       "      <th>worst symmetry</th>\n",
       "      <th>worst fractal dimension</th>\n",
       "    </tr>\n",
       "  </thead>\n",
       "  <tbody>\n",
       "    <tr>\n",
       "      <th>0</th>\n",
       "      <td>17.99</td>\n",
       "      <td>10.38</td>\n",
       "      <td>122.80</td>\n",
       "      <td>1001.0</td>\n",
       "      <td>0.11840</td>\n",
       "      <td>0.27760</td>\n",
       "      <td>0.3001</td>\n",
       "      <td>0.14710</td>\n",
       "      <td>0.2419</td>\n",
       "      <td>0.07871</td>\n",
       "      <td>...</td>\n",
       "      <td>25.38</td>\n",
       "      <td>17.33</td>\n",
       "      <td>184.60</td>\n",
       "      <td>2019.0</td>\n",
       "      <td>0.1622</td>\n",
       "      <td>0.6656</td>\n",
       "      <td>0.7119</td>\n",
       "      <td>0.2654</td>\n",
       "      <td>0.4601</td>\n",
       "      <td>0.11890</td>\n",
       "    </tr>\n",
       "    <tr>\n",
       "      <th>1</th>\n",
       "      <td>20.57</td>\n",
       "      <td>17.77</td>\n",
       "      <td>132.90</td>\n",
       "      <td>1326.0</td>\n",
       "      <td>0.08474</td>\n",
       "      <td>0.07864</td>\n",
       "      <td>0.0869</td>\n",
       "      <td>0.07017</td>\n",
       "      <td>0.1812</td>\n",
       "      <td>0.05667</td>\n",
       "      <td>...</td>\n",
       "      <td>24.99</td>\n",
       "      <td>23.41</td>\n",
       "      <td>158.80</td>\n",
       "      <td>1956.0</td>\n",
       "      <td>0.1238</td>\n",
       "      <td>0.1866</td>\n",
       "      <td>0.2416</td>\n",
       "      <td>0.1860</td>\n",
       "      <td>0.2750</td>\n",
       "      <td>0.08902</td>\n",
       "    </tr>\n",
       "    <tr>\n",
       "      <th>2</th>\n",
       "      <td>19.69</td>\n",
       "      <td>21.25</td>\n",
       "      <td>130.00</td>\n",
       "      <td>1203.0</td>\n",
       "      <td>0.10960</td>\n",
       "      <td>0.15990</td>\n",
       "      <td>0.1974</td>\n",
       "      <td>0.12790</td>\n",
       "      <td>0.2069</td>\n",
       "      <td>0.05999</td>\n",
       "      <td>...</td>\n",
       "      <td>23.57</td>\n",
       "      <td>25.53</td>\n",
       "      <td>152.50</td>\n",
       "      <td>1709.0</td>\n",
       "      <td>0.1444</td>\n",
       "      <td>0.4245</td>\n",
       "      <td>0.4504</td>\n",
       "      <td>0.2430</td>\n",
       "      <td>0.3613</td>\n",
       "      <td>0.08758</td>\n",
       "    </tr>\n",
       "    <tr>\n",
       "      <th>3</th>\n",
       "      <td>11.42</td>\n",
       "      <td>20.38</td>\n",
       "      <td>77.58</td>\n",
       "      <td>386.1</td>\n",
       "      <td>0.14250</td>\n",
       "      <td>0.28390</td>\n",
       "      <td>0.2414</td>\n",
       "      <td>0.10520</td>\n",
       "      <td>0.2597</td>\n",
       "      <td>0.09744</td>\n",
       "      <td>...</td>\n",
       "      <td>14.91</td>\n",
       "      <td>26.50</td>\n",
       "      <td>98.87</td>\n",
       "      <td>567.7</td>\n",
       "      <td>0.2098</td>\n",
       "      <td>0.8663</td>\n",
       "      <td>0.6869</td>\n",
       "      <td>0.2575</td>\n",
       "      <td>0.6638</td>\n",
       "      <td>0.17300</td>\n",
       "    </tr>\n",
       "    <tr>\n",
       "      <th>4</th>\n",
       "      <td>20.29</td>\n",
       "      <td>14.34</td>\n",
       "      <td>135.10</td>\n",
       "      <td>1297.0</td>\n",
       "      <td>0.10030</td>\n",
       "      <td>0.13280</td>\n",
       "      <td>0.1980</td>\n",
       "      <td>0.10430</td>\n",
       "      <td>0.1809</td>\n",
       "      <td>0.05883</td>\n",
       "      <td>...</td>\n",
       "      <td>22.54</td>\n",
       "      <td>16.67</td>\n",
       "      <td>152.20</td>\n",
       "      <td>1575.0</td>\n",
       "      <td>0.1374</td>\n",
       "      <td>0.2050</td>\n",
       "      <td>0.4000</td>\n",
       "      <td>0.1625</td>\n",
       "      <td>0.2364</td>\n",
       "      <td>0.07678</td>\n",
       "    </tr>\n",
       "  </tbody>\n",
       "</table>\n",
       "<p>5 rows × 30 columns</p>\n",
       "</div>"
      ],
      "text/plain": [
       "   mean radius  mean texture  mean perimeter  mean area  mean smoothness  \\\n",
       "0        17.99         10.38          122.80     1001.0          0.11840   \n",
       "1        20.57         17.77          132.90     1326.0          0.08474   \n",
       "2        19.69         21.25          130.00     1203.0          0.10960   \n",
       "3        11.42         20.38           77.58      386.1          0.14250   \n",
       "4        20.29         14.34          135.10     1297.0          0.10030   \n",
       "\n",
       "   mean compactness  mean concavity  mean concave points  mean symmetry  \\\n",
       "0           0.27760          0.3001              0.14710         0.2419   \n",
       "1           0.07864          0.0869              0.07017         0.1812   \n",
       "2           0.15990          0.1974              0.12790         0.2069   \n",
       "3           0.28390          0.2414              0.10520         0.2597   \n",
       "4           0.13280          0.1980              0.10430         0.1809   \n",
       "\n",
       "   mean fractal dimension  ...  worst radius  worst texture  worst perimeter  \\\n",
       "0                 0.07871  ...         25.38          17.33           184.60   \n",
       "1                 0.05667  ...         24.99          23.41           158.80   \n",
       "2                 0.05999  ...         23.57          25.53           152.50   \n",
       "3                 0.09744  ...         14.91          26.50            98.87   \n",
       "4                 0.05883  ...         22.54          16.67           152.20   \n",
       "\n",
       "   worst area  worst smoothness  worst compactness  worst concavity  \\\n",
       "0      2019.0            0.1622             0.6656           0.7119   \n",
       "1      1956.0            0.1238             0.1866           0.2416   \n",
       "2      1709.0            0.1444             0.4245           0.4504   \n",
       "3       567.7            0.2098             0.8663           0.6869   \n",
       "4      1575.0            0.1374             0.2050           0.4000   \n",
       "\n",
       "   worst concave points  worst symmetry  worst fractal dimension  \n",
       "0                0.2654          0.4601                  0.11890  \n",
       "1                0.1860          0.2750                  0.08902  \n",
       "2                0.2430          0.3613                  0.08758  \n",
       "3                0.2575          0.6638                  0.17300  \n",
       "4                0.1625          0.2364                  0.07678  \n",
       "\n",
       "[5 rows x 30 columns]"
      ]
     },
     "execution_count": 5,
     "metadata": {},
     "output_type": "execute_result"
    }
   ],
   "source": [
    "df.head()"
   ]
  },
  {
   "cell_type": "markdown",
   "metadata": {},
   "source": [
    "As we can clearly see from comparing features like `mean radius` and `mean area`, columns have different scales, which means that we need to normalize our dataset. To do this, we'll make use of sklearn's `StandardScaler()` object. \n",
    "\n",
    "In the cell below, use create a StandardScaler object and use it to create a normalized version of our dataset. "
   ]
  },
  {
   "cell_type": "code",
   "execution_count": 6,
   "metadata": {},
   "outputs": [],
   "source": [
    "scaler = StandardScaler()\n",
    "scaled_data = scaler.fit_transform(df)"
   ]
  },
  {
   "cell_type": "markdown",
   "metadata": {},
   "source": [
    "## Binarizing Our Labels\n",
    "\n",
    "If you took a look at the data dictionary on Kaggle, then you probably noticed the target for this dataset is to predict if the sample is \"M\" (Malignant) or \"B\" (Benign). This means that this is a **_Binary Classification_** task, so we'll need to binarize our labels. \n",
    "\n",
    "In the cell below, make use of sklearn's `LabelBinarizer()` object to create a binarized version of our labels. "
   ]
  },
  {
   "cell_type": "code",
   "execution_count": 7,
   "metadata": {},
   "outputs": [],
   "source": [
    "binarizer = LabelBinarizer()\n",
    "labels = binarizer.fit_transform(target)"
   ]
  },
  {
   "cell_type": "markdown",
   "metadata": {},
   "source": [
    "## Building our MLP\n",
    "\n",
    "Now, we'll build a small **_Multi-Layer Perceptron_** using Keras in the cell below. Our first model will act as a baseline, and then we'll make it bigger to see what happens to model performance. \n",
    "\n",
    "In the cell below:\n",
    "\n",
    "* Create our keras model by instantiating a `Sequential()` object. \n",
    "* Use the model's `.add()` method to add a `Dense` layer with 10 neurons and a `'tanh'` activation function. Also set the `input_shape` attribute to `(30,)`, since we have 30 features. \n",
    "* Since this is a binary classification task, the output layer should be a `Dense` layer with a single neuron, and the activation set to `'sigmoid'`."
   ]
  },
  {
   "cell_type": "code",
   "execution_count": 8,
   "metadata": {},
   "outputs": [
    {
     "name": "stdout",
     "output_type": "stream",
     "text": [
      "WARNING:tensorflow:From /Users/gabrielblatstein/anaconda3/lib/python3.7/site-packages/keras/backend/tensorflow_backend.py:66: The name tf.get_default_graph is deprecated. Please use tf.compat.v1.get_default_graph instead.\n",
      "\n",
      "WARNING:tensorflow:From /Users/gabrielblatstein/anaconda3/lib/python3.7/site-packages/keras/backend/tensorflow_backend.py:541: The name tf.placeholder is deprecated. Please use tf.compat.v1.placeholder instead.\n",
      "\n",
      "WARNING:tensorflow:From /Users/gabrielblatstein/anaconda3/lib/python3.7/site-packages/keras/backend/tensorflow_backend.py:4432: The name tf.random_uniform is deprecated. Please use tf.random.uniform instead.\n",
      "\n"
     ]
    }
   ],
   "source": [
    "model_1 = Sequential()\n",
    "\n",
    "model_1.add(Dense(5, activation='tanh', input_shape= (30,)))\n",
    "model_1.add(Dense(1, activation='sigmoid'))\n"
   ]
  },
  {
   "cell_type": "markdown",
   "metadata": {},
   "source": [
    "### Compiling the Model\n",
    "\n",
    "Now that we've created the model, we still have to compile it. \n",
    "\n",
    "In the cell below, compile the model. Set the following hyperparameters:\n",
    "\n",
    "* `loss='binary_crossentropy'`\n",
    "* `optimizer='sgd'`\n",
    "* `metrics=['accuracy']`"
   ]
  },
  {
   "cell_type": "code",
   "execution_count": 9,
   "metadata": {},
   "outputs": [
    {
     "name": "stdout",
     "output_type": "stream",
     "text": [
      "WARNING:tensorflow:From /Users/gabrielblatstein/anaconda3/lib/python3.7/site-packages/keras/optimizers.py:793: The name tf.train.Optimizer is deprecated. Please use tf.compat.v1.train.Optimizer instead.\n",
      "\n",
      "WARNING:tensorflow:From /Users/gabrielblatstein/anaconda3/lib/python3.7/site-packages/keras/backend/tensorflow_backend.py:3657: The name tf.log is deprecated. Please use tf.math.log instead.\n",
      "\n",
      "WARNING:tensorflow:From /Users/gabrielblatstein/anaconda3/lib/python3.7/site-packages/tensorflow/python/ops/nn_impl.py:180: add_dispatch_support.<locals>.wrapper (from tensorflow.python.ops.array_ops) is deprecated and will be removed in a future version.\n",
      "Instructions for updating:\n",
      "Use tf.where in 2.0, which has the same broadcast rule as np.where\n"
     ]
    }
   ],
   "source": [
    "model_1.compile(loss='binary_crossentropy', optimizer='sgd', metrics=['accuracy'])"
   ]
  },
  {
   "cell_type": "markdown",
   "metadata": {},
   "source": [
    "### Fitting the Model\n",
    "\n",
    "Now, let's fit the model. In addition to our scaled data and our labels, set the following hyperparameters:\n",
    "\n",
    "* `epochs=25`\n",
    "* `batch_size=1`\n",
    "* `validation_split=0.2`"
   ]
  },
  {
   "cell_type": "code",
   "execution_count": 11,
   "metadata": {},
   "outputs": [
    {
     "name": "stdout",
     "output_type": "stream",
     "text": [
      "WARNING:tensorflow:From /Users/gabrielblatstein/anaconda3/lib/python3.7/site-packages/keras/backend/tensorflow_backend.py:1033: The name tf.assign_add is deprecated. Please use tf.compat.v1.assign_add instead.\n",
      "\n",
      "Train on 455 samples, validate on 114 samples\n",
      "Epoch 1/25\n",
      "455/455 [==============================] - 2s 5ms/step - loss: 0.2421 - acc: 0.9275 - val_loss: 0.1557 - val_acc: 0.9825\n",
      "Epoch 2/25\n",
      "455/455 [==============================] - 1s 2ms/step - loss: 0.1175 - acc: 0.9714 - val_loss: 0.1204 - val_acc: 0.9825\n",
      "Epoch 3/25\n",
      "455/455 [==============================] - 1s 1ms/step - loss: 0.0909 - acc: 0.9758 - val_loss: 0.1100 - val_acc: 0.9825\n",
      "Epoch 4/25\n",
      "455/455 [==============================] - 1s 2ms/step - loss: 0.0792 - acc: 0.9758 - val_loss: 0.1033 - val_acc: 0.9825\n",
      "Epoch 5/25\n",
      "455/455 [==============================] - 1s 1ms/step - loss: 0.0717 - acc: 0.9758 - val_loss: 0.0944 - val_acc: 0.9825\n",
      "Epoch 6/25\n",
      "455/455 [==============================] - 1s 1ms/step - loss: 0.0673 - acc: 0.9780 - val_loss: 0.0931 - val_acc: 0.9912\n",
      "Epoch 7/25\n",
      "455/455 [==============================] - 1s 1ms/step - loss: 0.0634 - acc: 0.9780 - val_loss: 0.0948 - val_acc: 0.9912\n",
      "Epoch 8/25\n",
      "455/455 [==============================] - 1s 1ms/step - loss: 0.0604 - acc: 0.9780 - val_loss: 0.0882 - val_acc: 0.9912\n",
      "Epoch 9/25\n",
      "455/455 [==============================] - 1s 1ms/step - loss: 0.0584 - acc: 0.9802 - val_loss: 0.0880 - val_acc: 0.9912\n",
      "Epoch 10/25\n",
      "455/455 [==============================] - 1s 1ms/step - loss: 0.0564 - acc: 0.9802 - val_loss: 0.0850 - val_acc: 0.9825\n",
      "Epoch 11/25\n",
      "455/455 [==============================] - 1s 1ms/step - loss: 0.0544 - acc: 0.9824 - val_loss: 0.0871 - val_acc: 0.9825\n",
      "Epoch 12/25\n",
      "455/455 [==============================] - 1s 1ms/step - loss: 0.0524 - acc: 0.9824 - val_loss: 0.0835 - val_acc: 0.9825\n",
      "Epoch 13/25\n",
      "455/455 [==============================] - 1s 1ms/step - loss: 0.0514 - acc: 0.9824 - val_loss: 0.0823 - val_acc: 0.9912\n",
      "Epoch 14/25\n",
      "455/455 [==============================] - 1s 1ms/step - loss: 0.0500 - acc: 0.9802 - val_loss: 0.0817 - val_acc: 0.9825\n",
      "Epoch 15/25\n",
      "455/455 [==============================] - 1s 1ms/step - loss: 0.0482 - acc: 0.9846 - val_loss: 0.0833 - val_acc: 0.9825\n",
      "Epoch 16/25\n",
      "455/455 [==============================] - 1s 1ms/step - loss: 0.0470 - acc: 0.9824 - val_loss: 0.0866 - val_acc: 0.9825\n",
      "Epoch 17/25\n",
      "455/455 [==============================] - 1s 1ms/step - loss: 0.0465 - acc: 0.9846 - val_loss: 0.0788 - val_acc: 0.9825\n",
      "Epoch 18/25\n",
      "455/455 [==============================] - 1s 1ms/step - loss: 0.0454 - acc: 0.9824 - val_loss: 0.0845 - val_acc: 0.9825\n",
      "Epoch 19/25\n",
      "455/455 [==============================] - 1s 1ms/step - loss: 0.0449 - acc: 0.9824 - val_loss: 0.0793 - val_acc: 0.9825\n",
      "Epoch 20/25\n",
      "455/455 [==============================] - 1s 1ms/step - loss: 0.0437 - acc: 0.9824 - val_loss: 0.0765 - val_acc: 0.9825\n",
      "Epoch 21/25\n",
      "455/455 [==============================] - 1s 2ms/step - loss: 0.0431 - acc: 0.9868 - val_loss: 0.0739 - val_acc: 0.9825\n",
      "Epoch 22/25\n",
      "455/455 [==============================] - 1s 1ms/step - loss: 0.0422 - acc: 0.9846 - val_loss: 0.0713 - val_acc: 0.9825\n",
      "Epoch 23/25\n",
      "455/455 [==============================] - 1s 1ms/step - loss: 0.0423 - acc: 0.9824 - val_loss: 0.0748 - val_acc: 0.9825\n",
      "Epoch 24/25\n",
      "455/455 [==============================] - 1s 1ms/step - loss: 0.0412 - acc: 0.9824 - val_loss: 0.0786 - val_acc: 0.9825\n",
      "Epoch 25/25\n",
      "455/455 [==============================] - 1s 1ms/step - loss: 0.0408 - acc: 0.9824 - val_loss: 0.0754 - val_acc: 0.9825\n"
     ]
    }
   ],
   "source": [
    "results_1 = model_1.fit(scaled_data, labels, epochs= 25, batch_size= 1, validation_split= .2)"
   ]
  },
  {
   "cell_type": "markdown",
   "metadata": {},
   "source": [
    "Let's quickly plot our validation and accuracy curves and see if we notice anything. Note that when you call a Keras model's `.fit()` method, it returns a Keras callback containing information on the training process of the model. If you examine the callback's `.history` attribute, you'll find a dictionary containing both the training and validation loss, as well as any metrics we specified when compiling the model (in this case, just accuracy). \n",
    "\n",
    "In the cell below, let's quickly create a function for visualizing the loss and accuracy metrics. Since we'll want to do this anytime we train an MLP, its worth wrapping this code in a function so that we can easily reuse it. "
   ]
  },
  {
   "cell_type": "code",
   "execution_count": 12,
   "metadata": {},
   "outputs": [],
   "source": [
    "def visualize_training_results(results):\n",
    "    history = results.history\n",
    "    plt.figure()\n",
    "    plt.plot(history['val_loss'])\n",
    "    plt.plot(history['loss'])\n",
    "    plt.legend(['val_loss', 'loss'])\n",
    "    plt.title('Loss')\n",
    "    plt.xlabel('Epochs')\n",
    "    plt.ylabel('Loss')\n",
    "    plt.show()\n",
    "    \n",
    "    plt.figure()\n",
    "    plt.plot(history['val_acc'])\n",
    "    plt.plot(history['acc'])\n",
    "    plt.legend(['val_acc', 'acc'])\n",
    "    plt.title('Accuracy')\n",
    "    plt.xlabel('Epochs')\n",
    "    plt.ylabel('Accuracy')\n",
    "    plt.show()"
   ]
  },
  {
   "cell_type": "code",
   "execution_count": 13,
   "metadata": {},
   "outputs": [
    {
     "data": {
      "image/png": "[encoded data removed]",
      "text/plain": [
       "<Figure size 432x288 with 1 Axes>"
      ]
     },
     "metadata": {
      "needs_background": "light"
     },
     "output_type": "display_data"
    },
    {
     "data": {
      "image/png": "[encoded data removed]",
      "text/plain": [
       "<Figure size 432x288 with 1 Axes>"
      ]
     },
     "metadata": {
      "needs_background": "light"
     },
     "output_type": "display_data"
    }
   ],
   "source": [
    "visualize_training_results(results_1)"
   ]
  },
  {
   "cell_type": "markdown",
   "metadata": {},
   "source": [
    "## Detecting Overfitting\n",
    "\n",
    "You'll probably notice that the model did pretty well! It's always recommended to visualize your training and validation metrics against each other after training a model. By plotting them like this, we can easily detect that the model is starting to overfit. We can tell that this is happening by seeing the model's training performance steadily improve long after the validation performance plateaus. We can see that in the plots above as the training loss continues to decrease and the training accuracy continues to increase, and the distance between the two lines gets greater as the epochs gets higher. \n",
    "\n",
    "## Iterating on the Model\n",
    "\n",
    "By adding another hidden layer, we can a given the model the ability to capture high layers of abstraction in th data. However, increasing the depth of the model also increases the amount of data the model needs to converge to answer, because with a more complex model comes the \"Curse of Dimensionality\", thanks to all the extra trainable parameters that come from adding more size to our network. \n",
    "\n",
    "If there is complexity in the data that our smaller model was not big enough to catch, then a larger model may improve performance. However, if our dataset isn't big enough for the new, larger model, then we may see performance decrease as then model \"thrashes\" about a bit, failing to converge. Let's try and see what happens. \n",
    "\n",
    "In the cell below, recreate the model that you created above, with one exception. In the model below, add a second `Dense` layer with `'tanh'` activation functions and `5` neurons after the first. The network's output layer should still be a `Dense` layer with a single neuron and a sigmoid activation function, since this is still a binary classification task. \n",
    "\n",
    "Create, compile, and fit the model in the cells below, and then visualize the results to compare the history. "
   ]
  },
  {
   "cell_type": "code",
   "execution_count": 18,
   "metadata": {},
   "outputs": [],
   "source": [
    "model_2 = Sequential()\n",
    "\n",
    "model_2.add(Dense(10, activation='tanh', input_shape=(30,)))\n",
    "model_2.add(Dense(5, activation='tanh'))\n",
    "model_2.add(Dense(1, activation='sigmoid'))\n"
   ]
  },
  {
   "cell_type": "code",
   "execution_count": 20,
   "metadata": {},
   "outputs": [],
   "source": [
    "model_2.compile(loss='binary_crossentropy', optimizer='sgd', metrics=['accuracy'])"
   ]
  },
  {
   "cell_type": "code",
   "execution_count": 21,
   "metadata": {
    "scrolled": true
   },
   "outputs": [
    {
     "name": "stdout",
     "output_type": "stream",
     "text": [
      "Train on 455 samples, validate on 114 samples\n",
      "Epoch 1/25\n",
      "455/455 [==============================] - 1s 2ms/step - loss: 0.2842 - acc: 0.9143 - val_loss: 0.1330 - val_acc: 0.9737\n",
      "Epoch 2/25\n",
      "455/455 [==============================] - 1s 1ms/step - loss: 0.1206 - acc: 0.9670 - val_loss: 0.0903 - val_acc: 0.9737\n",
      "Epoch 3/25\n",
      "455/455 [==============================] - 1s 1ms/step - loss: 0.0932 - acc: 0.9736 - val_loss: 0.0745 - val_acc: 0.9737\n",
      "Epoch 4/25\n",
      "455/455 [==============================] - 1s 1ms/step - loss: 0.0777 - acc: 0.9780 - val_loss: 0.0870 - val_acc: 0.9737\n",
      "Epoch 5/25\n",
      "455/455 [==============================] - 1s 1ms/step - loss: 0.0718 - acc: 0.9824 - val_loss: 0.0650 - val_acc: 0.9825\n",
      "Epoch 6/25\n",
      "455/455 [==============================] - 1s 1ms/step - loss: 0.0673 - acc: 0.9802 - val_loss: 0.0743 - val_acc: 0.9825\n",
      "Epoch 7/25\n",
      "455/455 [==============================] - 1s 1ms/step - loss: 0.0638 - acc: 0.9824 - val_loss: 0.0768 - val_acc: 0.9649\n",
      "Epoch 8/25\n",
      "455/455 [==============================] - 1s 1ms/step - loss: 0.0592 - acc: 0.9802 - val_loss: 0.0716 - val_acc: 0.9825\n",
      "Epoch 9/25\n",
      "455/455 [==============================] - 1s 1ms/step - loss: 0.0570 - acc: 0.9758 - val_loss: 0.0715 - val_acc: 0.9737\n",
      "Epoch 10/25\n",
      "455/455 [==============================] - ETA: 0s - loss: 0.0529 - acc: 0.984 - 1s 2ms/step - loss: 0.0524 - acc: 0.9846 - val_loss: 0.0665 - val_acc: 0.9737\n",
      "Epoch 11/25\n",
      "455/455 [==============================] - 1s 2ms/step - loss: 0.0497 - acc: 0.9802 - val_loss: 0.0613 - val_acc: 0.9825\n",
      "Epoch 12/25\n",
      "455/455 [==============================] - 1s 2ms/step - loss: 0.0480 - acc: 0.9868 - val_loss: 0.0665 - val_acc: 0.9825\n",
      "Epoch 13/25\n",
      "455/455 [==============================] - 1s 1ms/step - loss: 0.0417 - acc: 0.9890 - val_loss: 0.0529 - val_acc: 0.9912\n",
      "Epoch 14/25\n",
      "455/455 [==============================] - 1s 1ms/step - loss: 0.0426 - acc: 0.9912 - val_loss: 0.0766 - val_acc: 0.9737\n",
      "Epoch 15/25\n",
      "455/455 [==============================] - 1s 1ms/step - loss: 0.0415 - acc: 0.9868 - val_loss: 0.0698 - val_acc: 0.9825\n",
      "Epoch 16/25\n",
      "455/455 [==============================] - 1s 1ms/step - loss: 0.0386 - acc: 0.9890 - val_loss: 0.0764 - val_acc: 0.9737\n",
      "Epoch 17/25\n",
      "455/455 [==============================] - 1s 1ms/step - loss: 0.0364 - acc: 0.9868 - val_loss: 0.0561 - val_acc: 0.9912\n",
      "Epoch 18/25\n",
      "455/455 [==============================] - 1s 1ms/step - loss: 0.0339 - acc: 0.9912 - val_loss: 0.0600 - val_acc: 0.9825\n",
      "Epoch 19/25\n",
      "455/455 [==============================] - 1s 1ms/step - loss: 0.0301 - acc: 0.9912 - val_loss: 0.0660 - val_acc: 0.9825\n",
      "Epoch 20/25\n",
      "455/455 [==============================] - 1s 2ms/step - loss: 0.0281 - acc: 0.9934 - val_loss: 0.0548 - val_acc: 0.9912\n",
      "Epoch 21/25\n",
      "455/455 [==============================] - 1s 1ms/step - loss: 0.0285 - acc: 0.9912 - val_loss: 0.0637 - val_acc: 0.9825\n",
      "Epoch 22/25\n",
      "455/455 [==============================] - 1s 1ms/step - loss: 0.0264 - acc: 0.9912 - val_loss: 0.0597 - val_acc: 0.9912\n",
      "Epoch 23/25\n",
      "455/455 [==============================] - 1s 1ms/step - loss: 0.0228 - acc: 0.9934 - val_loss: 0.0617 - val_acc: 0.9825\n",
      "Epoch 24/25\n",
      "455/455 [==============================] - 1s 1ms/step - loss: 0.0226 - acc: 0.9912 - val_loss: 0.0489 - val_acc: 0.9912\n",
      "Epoch 25/25\n",
      "455/455 [==============================] - 1s 1ms/step - loss: 0.0208 - acc: 0.9912 - val_loss: 0.0741 - val_acc: 0.9825\n"
     ]
    }
   ],
   "source": [
    "results_2 = model_2.fit(scaled_data, labels, epochs=25, batch_size=1, validation_split= .2)"
   ]
  },
  {
   "cell_type": "code",
   "execution_count": 22,
   "metadata": {
    "scrolled": true
   },
   "outputs": [
    {
     "data": {
      "image/png": "[encoded data removed]",
      "text/plain": [
       "<Figure size 432x288 with 1 Axes>"
      ]
     },
     "metadata": {
      "needs_background": "light"
     },
     "output_type": "display_data"
    },
    {
     "data": {
      "image/png": "[encoded data removed]",
      "text/plain": [
       "<Figure size 432x288 with 1 Axes>"
      ]
     },
     "metadata": {
      "needs_background": "light"
     },
     "output_type": "display_data"
    }
   ],
   "source": [
    "visualize_training_results(results_2)"
   ]
  },
  {
   "cell_type": "markdown",
   "metadata": {},
   "source": [
    "## What Happened?\n",
    "\n",
    "Although the final validation score for both models is the same, this model is clearly worse because it hasn't converged yet. We can tell because of the greater variance in the movement of the `val_loss` and `val_acc` lines. This suggests that we can remedy this in 1 of 2 ways:\n",
    "\n",
    "* Decrease the size of the network, OR\n",
    "* Increase the size of our training data. \n",
    "\n",
    "## Visualizing Why we Normalize Our Data\n",
    "\n",
    "As a final exercise, let's create a 3rd model that is the same as the first model we created for this exercise in every way. The only difference is that we will train it on our raw dataset, not the normalized version. This way, we can see how much of a difference normalizing our input data makes.\n",
    "\n",
    "Create, compile, and fit a model in the cell below. The only change in parameters will be using `data` instead of `scaled_data` during the `.fit()` step. "
   ]
  },
  {
   "cell_type": "code",
   "execution_count": 23,
   "metadata": {},
   "outputs": [],
   "source": [
    "model_3 = Sequential()\n",
    "model_3.add(Dense(5, activation='tanh', input_shape=(30,)))\n",
    "model_3.add(Dense(1, activation='sigmoid'))\n"
   ]
  },
  {
   "cell_type": "code",
   "execution_count": 24,
   "metadata": {},
   "outputs": [],
   "source": [
    "model_3.compile(loss='binary_crossentropy', optimizer= 'sgd', metrics= ['accuracy'])"
   ]
  },
  {
   "cell_type": "code",
   "execution_count": 25,
   "metadata": {},
   "outputs": [
    {
     "name": "stdout",
     "output_type": "stream",
     "text": [
      "Train on 455 samples, validate on 114 samples\n",
      "Epoch 1/25\n",
      "455/455 [==============================] - 1s 2ms/step - loss: 0.8011 - acc: 0.5187 - val_loss: 0.6471 - val_acc: 0.7719\n",
      "Epoch 2/25\n",
      "455/455 [==============================] - 1s 1ms/step - loss: 0.6814 - acc: 0.5912 - val_loss: 0.6469 - val_acc: 0.7719\n",
      "Epoch 3/25\n",
      "455/455 [==============================] - 1s 1ms/step - loss: 0.6809 - acc: 0.5912 - val_loss: 0.5803 - val_acc: 0.7719\n",
      "Epoch 4/25\n",
      "455/455 [==============================] - 1s 2ms/step - loss: 0.6819 - acc: 0.5912 - val_loss: 0.6185 - val_acc: 0.7719\n",
      "Epoch 5/25\n",
      "455/455 [==============================] - 1s 1ms/step - loss: 0.6771 - acc: 0.5890 - val_loss: 0.6886 - val_acc: 0.7719\n",
      "Epoch 6/25\n",
      "455/455 [==============================] - 1s 1ms/step - loss: 0.6835 - acc: 0.5846 - val_loss: 0.6116 - val_acc: 0.7719\n",
      "Epoch 7/25\n",
      "455/455 [==============================] - 1s 1ms/step - loss: 0.6804 - acc: 0.5912 - val_loss: 0.6434 - val_acc: 0.7719\n",
      "Epoch 8/25\n",
      "455/455 [==============================] - 1s 1ms/step - loss: 0.6812 - acc: 0.5912 - val_loss: 0.6664 - val_acc: 0.7719\n",
      "Epoch 9/25\n",
      "455/455 [==============================] - 1s 1ms/step - loss: 0.6828 - acc: 0.5912 - val_loss: 0.6324 - val_acc: 0.7719\n",
      "Epoch 10/25\n",
      "455/455 [==============================] - 1s 1ms/step - loss: 0.6785 - acc: 0.5780 - val_loss: 0.5754 - val_acc: 0.7719\n",
      "Epoch 11/25\n",
      "455/455 [==============================] - 1s 1ms/step - loss: 0.6820 - acc: 0.5912 - val_loss: 0.6059 - val_acc: 0.7719\n",
      "Epoch 12/25\n",
      "455/455 [==============================] - 1s 1ms/step - loss: 0.6822 - acc: 0.5912 - val_loss: 0.6040 - val_acc: 0.7719\n",
      "Epoch 13/25\n",
      "455/455 [==============================] - 1s 1ms/step - loss: 0.6815 - acc: 0.5912 - val_loss: 0.6125 - val_acc: 0.7719\n",
      "Epoch 14/25\n",
      "455/455 [==============================] - 1s 1ms/step - loss: 0.6791 - acc: 0.5890 - val_loss: 0.5965 - val_acc: 0.7719\n",
      "Epoch 15/25\n",
      "455/455 [==============================] - 1s 1ms/step - loss: 0.6816 - acc: 0.5912 - val_loss: 0.6396 - val_acc: 0.7719\n",
      "Epoch 16/25\n",
      "455/455 [==============================] - 1s 1ms/step - loss: 0.6792 - acc: 0.5846 - val_loss: 0.5999 - val_acc: 0.7719\n",
      "Epoch 17/25\n",
      "455/455 [==============================] - 1s 1ms/step - loss: 0.6809 - acc: 0.5912 - val_loss: 0.6243 - val_acc: 0.7719\n",
      "Epoch 18/25\n",
      "455/455 [==============================] - 1s 1ms/step - loss: 0.6812 - acc: 0.5934 - val_loss: 0.6044 - val_acc: 0.7719\n",
      "Epoch 19/25\n",
      "455/455 [==============================] - 1s 1ms/step - loss: 0.6805 - acc: 0.5890 - val_loss: 0.6021 - val_acc: 0.7719\n",
      "Epoch 20/25\n",
      "455/455 [==============================] - 1s 1ms/step - loss: 0.6812 - acc: 0.5934 - val_loss: 0.5956 - val_acc: 0.7719\n",
      "Epoch 21/25\n",
      "455/455 [==============================] - 1s 1ms/step - loss: 0.6818 - acc: 0.5934 - val_loss: 0.5998 - val_acc: 0.7719\n",
      "Epoch 22/25\n",
      "455/455 [==============================] - 1s 1ms/step - loss: 0.6811 - acc: 0.5934 - val_loss: 0.6254 - val_acc: 0.7719\n",
      "Epoch 23/25\n",
      "455/455 [==============================] - 1s 1ms/step - loss: 0.6789 - acc: 0.5846 - val_loss: 0.5943 - val_acc: 0.7719\n",
      "Epoch 24/25\n",
      "455/455 [==============================] - 1s 1ms/step - loss: 0.6817 - acc: 0.5934 - val_loss: 0.6180 - val_acc: 0.7719\n",
      "Epoch 25/25\n",
      "455/455 [==============================] - 1s 1ms/step - loss: 0.6765 - acc: 0.5824 - val_loss: 0.5717 - val_acc: 0.7719\n"
     ]
    }
   ],
   "source": [
    "results_3 = model_3.fit(data, labels, epochs=25, batch_size=1, validation_split= .2)"
   ]
  },
  {
   "cell_type": "code",
   "execution_count": 26,
   "metadata": {},
   "outputs": [
    {
     "data": {
      "image/png": "[encoded data removed]",
      "text/plain": [
       "<Figure size 432x288 with 1 Axes>"
      ]
     },
     "metadata": {
      "needs_background": "light"
     },
     "output_type": "display_data"
    },
    {
     "data": {
      "image/png": "[encoded data removed]",
      "text/plain": [
       "<Figure size 432x288 with 1 Axes>"
      ]
     },
     "metadata": {
      "needs_background": "light"
     },
     "output_type": "display_data"
    }
   ],
   "source": [
    "visualize_training_results(results_3)"
   ]
  },
  {
   "cell_type": "markdown",
   "metadata": {},
   "source": [
    "Wow! Our results were much worse--over 20% poorer performance when working with non-normalized input data!  \n",
    "\n",
    "\n",
    "## Summary\n",
    "\n",
    "In this lab, we got some practice creating **_Multi-Layer Perceptrons_**, and explored how things like the number of layers in a model and data normalization affect our overall training results!"
   ]
  }
 ],
 "metadata": {
  "kernelspec": {
   "display_name": "Python 3",
   "language": "python",
   "name": "python3"
  },
  "language_info": {
   "codemirror_mode": {
    "name": "ipython",
    "version": 3
   },
   "file_extension": ".py",
   "mimetype": "text/x-python",
   "name": "python",
   "nbconvert_exporter": "python",
   "pygments_lexer": "ipython3",
   "version": "3.7.3"
  }
 },
 "nbformat": 4,
 "nbformat_minor": 2
}
